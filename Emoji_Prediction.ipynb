{
  "nbformat": 4,
  "nbformat_minor": 0,
  "metadata": {
    "colab": {
      "name": "Emoji Prediction",
      "provenance": [],
      "collapsed_sections": [],
      "include_colab_link": true
    },
    "kernelspec": {
      "name": "python3",
      "display_name": "Python 3"
    },
    "language_info": {
      "name": "python"
    },
    "accelerator": "GPU"
  },
  "cells": [
    {
      "cell_type": "markdown",
      "metadata": {
        "id": "view-in-github",
        "colab_type": "text"
      },
      "source": [
        "<a href=\"https://colab.research.google.com/github/abhi271998/Emoji-Prediction-for-a-sentence-using-glove6B50D-file-and-RNN-LSTM-Models/blob/main/Emoji_Prediction.ipynb\" target=\"_parent\"><img src=\"https://colab.research.google.com/assets/colab-badge.svg\" alt=\"Open In Colab\"/></a>"
      ]
    },
    {
      "cell_type": "code",
      "metadata": {
        "colab": {
          "base_uri": "https://localhost:8080/"
        },
        "id": "S0cWJbofv2_d",
        "outputId": "49c244ae-8a41-4c74-db9e-82df000b6a1e"
      },
      "source": [
        "!pip install emoji"
      ],
      "execution_count": null,
      "outputs": [
        {
          "output_type": "stream",
          "text": [
            "Collecting emoji\n",
            "\u001b[?25l  Downloading https://files.pythonhosted.org/packages/24/fa/b3368f41b95a286f8d300e323449ab4e86b85334c2e0b477e94422b8ed0f/emoji-1.2.0-py3-none-any.whl (131kB)\n",
            "\r\u001b[K     |██▌                             | 10kB 16.4MB/s eta 0:00:01\r\u001b[K     |█████                           | 20kB 19.1MB/s eta 0:00:01\r\u001b[K     |███████▌                        | 30kB 17.0MB/s eta 0:00:01\r\u001b[K     |██████████                      | 40kB 14.9MB/s eta 0:00:01\r\u001b[K     |████████████▌                   | 51kB 9.5MB/s eta 0:00:01\r\u001b[K     |███████████████                 | 61kB 10.8MB/s eta 0:00:01\r\u001b[K     |█████████████████▌              | 71kB 10.6MB/s eta 0:00:01\r\u001b[K     |████████████████████            | 81kB 11.6MB/s eta 0:00:01\r\u001b[K     |██████████████████████▌         | 92kB 12.2MB/s eta 0:00:01\r\u001b[K     |█████████████████████████       | 102kB 10.0MB/s eta 0:00:01\r\u001b[K     |███████████████████████████▌    | 112kB 10.0MB/s eta 0:00:01\r\u001b[K     |██████████████████████████████  | 122kB 10.0MB/s eta 0:00:01\r\u001b[K     |████████████████████████████████| 133kB 10.0MB/s \n",
            "\u001b[?25hInstalling collected packages: emoji\n",
            "Successfully installed emoji-1.2.0\n"
          ],
          "name": "stdout"
        }
      ]
    },
    {
      "cell_type": "code",
      "metadata": {
        "id": "Wqj98ImZxNDi"
      },
      "source": [
        "import numpy as np\n",
        "from scipy import spatial"
      ],
      "execution_count": null,
      "outputs": []
    },
    {
      "cell_type": "code",
      "metadata": {
        "colab": {
          "resources": {
            "http://localhost:8080/nbextensions/google.colab/files.js": {
              "data": "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",
              "ok": true,
              "headers": [
                [
                  "content-type",
                  "application/javascript"
                ]
              ],
              "status": 200,
              "status_text": ""
            }
          },
          "base_uri": "https://localhost:8080/",
          "height": 70
        },
        "id": "rD62GIRtwZIw",
        "outputId": "917b93ef-b594-4ae8-ab53-8e55638b2771"
      },
      "source": [
        "from google.colab import files\n",
        "!pip install -q kaggle\n",
        "uploaded = files.upload()\n",
        "\n",
        "!mkdir -p ~/.kaggle\n",
        "!cp kaggle.json ~/.kaggle/\n",
        "!chmod 600 ~/.kaggle/kaggle.json"
      ],
      "execution_count": null,
      "outputs": [
        {
          "output_type": "display_data",
          "data": {
            "text/html": [
              "\n",
              "     <input type=\"file\" id=\"files-ddab59b8-d89e-44c1-b9d7-1cb14fe74085\" name=\"files[]\" multiple disabled\n",
              "        style=\"border:none\" />\n",
              "     <output id=\"result-ddab59b8-d89e-44c1-b9d7-1cb14fe74085\">\n",
              "      Upload widget is only available when the cell has been executed in the\n",
              "      current browser session. Please rerun this cell to enable.\n",
              "      </output>\n",
              "      <script src=\"/nbextensions/google.colab/files.js\"></script> "
            ],
            "text/plain": [
              "<IPython.core.display.HTML object>"
            ]
          },
          "metadata": {
            "tags": []
          }
        },
        {
          "output_type": "stream",
          "text": [
            "Saving kaggle.json to kaggle.json\n"
          ],
          "name": "stdout"
        }
      ]
    },
    {
      "cell_type": "code",
      "metadata": {
        "colab": {
          "base_uri": "https://localhost:8080/"
        },
        "id": "1WLt42iWxNxZ",
        "outputId": "cea7040c-56cc-4a29-a529-962287ffd208"
      },
      "source": [
        "!kaggle datasets download -d adityajn105/glove6b50d"
      ],
      "execution_count": null,
      "outputs": [
        {
          "output_type": "stream",
          "text": [
            "Downloading glove6b50d.zip to /content\n",
            " 98% 66.0M/67.7M [00:08<00:00, 7.69MB/s]\n",
            "100% 67.7M/67.7M [00:08<00:00, 7.89MB/s]\n"
          ],
          "name": "stdout"
        }
      ]
    },
    {
      "cell_type": "code",
      "metadata": {
        "colab": {
          "base_uri": "https://localhost:8080/"
        },
        "id": "kP9ZrHZrxlZ6",
        "outputId": "06d89071-09f0-424e-ad52-d24bd45f805d"
      },
      "source": [
        "!unzip '/content/glove6b50d.zip'"
      ],
      "execution_count": null,
      "outputs": [
        {
          "output_type": "stream",
          "text": [
            "Archive:  /content/glove6b50d.zip\n",
            "replace glove.6B.50d.txt? [y]es, [n]o, [A]ll, [N]one, [r]ename: "
          ],
          "name": "stdout"
        }
      ]
    },
    {
      "cell_type": "code",
      "metadata": {
        "id": "bIiPt-fSJafl"
      },
      "source": [
        ""
      ],
      "execution_count": null,
      "outputs": []
    },
    {
      "cell_type": "code",
      "metadata": {
        "id": "LzuW9qODx23C"
      },
      "source": [
        "import emoji"
      ],
      "execution_count": null,
      "outputs": []
    },
    {
      "cell_type": "code",
      "metadata": {
        "id": "46cNfe6vzZ79"
      },
      "source": [
        "def label_to_emoji(label):\n",
        "  return emoji.emojize(label, use_aliases=True)"
      ],
      "execution_count": null,
      "outputs": []
    },
    {
      "cell_type": "code",
      "metadata": {
        "colab": {
          "base_uri": "https://localhost:8080/",
          "height": 34
        },
        "id": "68pb88SfzzEI",
        "outputId": "36cc8921-622a-47e5-acd9-38565257955c"
      },
      "source": [
        "label_to_emoji(\":smile:\")"
      ],
      "execution_count": null,
      "outputs": [
        {
          "output_type": "execute_result",
          "data": {
            "application/vnd.google.colaboratory.intrinsic+json": {
              "type": "string"
            },
            "text/plain": [
              "'😄'"
            ]
          },
          "metadata": {
            "tags": []
          },
          "execution_count": 8
        }
      ]
    },
    {
      "cell_type": "code",
      "metadata": {
        "id": "oSLMP2h6z-Dh"
      },
      "source": [
        "embedding_index = {}\n",
        "\n",
        "f = open('/content/glove.6B.50d.txt')\n",
        "for line in f:\n",
        "  values = line.split()\n",
        "  word = values[0]\n",
        "  coef = np.asarray(values[1:], dtype = 'float32')\n",
        "  embedding_index[word] = coef\n",
        "\n",
        "f.close()"
      ],
      "execution_count": null,
      "outputs": []
    },
    {
      "cell_type": "code",
      "metadata": {
        "colab": {
          "base_uri": "https://localhost:8080/"
        },
        "id": "E2F_Z_cG1d2V",
        "outputId": "752434ba-dbdd-42f1-c564-bab26c99929b"
      },
      "source": [
        "embedding_index[\"i\"].shape"
      ],
      "execution_count": null,
      "outputs": [
        {
          "output_type": "execute_result",
          "data": {
            "text/plain": [
              "(50,)"
            ]
          },
          "metadata": {
            "tags": []
          },
          "execution_count": 111
        }
      ]
    },
    {
      "cell_type": "code",
      "metadata": {
        "colab": {
          "base_uri": "https://localhost:8080/"
        },
        "id": "1R1Uywl-1qcG",
        "outputId": "5b33773c-aa49-4114-b94c-979e6ddb39b9"
      },
      "source": [
        "spatial.distance.cosine(embedding_index[\"happy\"], embedding_index[\"sad\"])"
      ],
      "execution_count": null,
      "outputs": [
        {
          "output_type": "execute_result",
          "data": {
            "text/plain": [
              "0.31093674898147583"
            ]
          },
          "metadata": {
            "tags": []
          },
          "execution_count": 112
        }
      ]
    },
    {
      "cell_type": "code",
      "metadata": {
        "colab": {
          "base_uri": "https://localhost:8080/"
        },
        "id": "E9kOT_fe2NJI",
        "outputId": "02a525f3-cd1f-4dbf-9067-ebd5ac2291a6"
      },
      "source": [
        "spatial.distance.cosine(embedding_index[\"india\"], embedding_index[\"delhi\"])"
      ],
      "execution_count": null,
      "outputs": [
        {
          "output_type": "execute_result",
          "data": {
            "text/plain": [
              "0.18572336435317993"
            ]
          },
          "metadata": {
            "tags": []
          },
          "execution_count": 113
        }
      ]
    },
    {
      "cell_type": "code",
      "metadata": {
        "colab": {
          "base_uri": "https://localhost:8080/"
        },
        "id": "vA8g_MAe2QRj",
        "outputId": "ffc16b5d-8c31-4007-849c-93aa9ba1a883"
      },
      "source": [
        "spatial.distance.cosine(embedding_index[\"france\"], embedding_index[\"paris\"])"
      ],
      "execution_count": null,
      "outputs": [
        {
          "output_type": "execute_result",
          "data": {
            "text/plain": [
              "0.19746702909469604"
            ]
          },
          "metadata": {
            "tags": []
          },
          "execution_count": 114
        }
      ]
    },
    {
      "cell_type": "code",
      "metadata": {
        "colab": {
          "base_uri": "https://localhost:8080/"
        },
        "id": "7a6532PT2aOl",
        "outputId": "40fa1786-face-4da6-93a8-3ea8d99fe7ad"
      },
      "source": [
        "spatial.distance.cosine(embedding_index[\"germany\"], embedding_index[\"berlin\"])"
      ],
      "execution_count": null,
      "outputs": [
        {
          "output_type": "execute_result",
          "data": {
            "text/plain": [
              "0.20145773887634277"
            ]
          },
          "metadata": {
            "tags": []
          },
          "execution_count": 115
        }
      ]
    },
    {
      "cell_type": "code",
      "metadata": {
        "id": "1gqxpNDb3M-h"
      },
      "source": [
        "from tensorflow.keras.models import Sequential\n",
        "from tensorflow.keras.layers import Dense, SimpleRNN, LSTM, Dropout\n",
        "import pandas as pd"
      ],
      "execution_count": null,
      "outputs": []
    },
    {
      "cell_type": "code",
      "metadata": {
        "colab": {
          "base_uri": "https://localhost:8080/",
          "height": 190
        },
        "id": "oUj9n2z33nvb",
        "outputId": "e7219b95-8dff-4eb5-8093-2df24498430b"
      },
      "source": [
        "train = pd.read_csv('/content/train_emoji.csv', header=None)\n",
        "test = pd.read_csv('/content/test_emoji.csv', header=None)\n",
        "\n",
        "train.head()"
      ],
      "execution_count": null,
      "outputs": [
        {
          "output_type": "execute_result",
          "data": {
            "text/html": [
              "<div>\n",
              "<style scoped>\n",
              "    .dataframe tbody tr th:only-of-type {\n",
              "        vertical-align: middle;\n",
              "    }\n",
              "\n",
              "    .dataframe tbody tr th {\n",
              "        vertical-align: top;\n",
              "    }\n",
              "\n",
              "    .dataframe thead th {\n",
              "        text-align: right;\n",
              "    }\n",
              "</style>\n",
              "<table border=\"1\" class=\"dataframe\">\n",
              "  <thead>\n",
              "    <tr style=\"text-align: right;\">\n",
              "      <th></th>\n",
              "      <th>0</th>\n",
              "      <th>1</th>\n",
              "      <th>2</th>\n",
              "      <th>3</th>\n",
              "    </tr>\n",
              "  </thead>\n",
              "  <tbody>\n",
              "    <tr>\n",
              "      <th>0</th>\n",
              "      <td>never talk to me again</td>\n",
              "      <td>3</td>\n",
              "      <td>NaN</td>\n",
              "      <td>NaN</td>\n",
              "    </tr>\n",
              "    <tr>\n",
              "      <th>1</th>\n",
              "      <td>I am proud of your achievements</td>\n",
              "      <td>2</td>\n",
              "      <td>NaN</td>\n",
              "      <td>NaN</td>\n",
              "    </tr>\n",
              "    <tr>\n",
              "      <th>2</th>\n",
              "      <td>It is the worst day in my life</td>\n",
              "      <td>3</td>\n",
              "      <td>NaN</td>\n",
              "      <td>NaN</td>\n",
              "    </tr>\n",
              "    <tr>\n",
              "      <th>3</th>\n",
              "      <td>Miss you so much</td>\n",
              "      <td>0</td>\n",
              "      <td>NaN</td>\n",
              "      <td>[0]</td>\n",
              "    </tr>\n",
              "    <tr>\n",
              "      <th>4</th>\n",
              "      <td>food is life</td>\n",
              "      <td>4</td>\n",
              "      <td>NaN</td>\n",
              "      <td>NaN</td>\n",
              "    </tr>\n",
              "  </tbody>\n",
              "</table>\n",
              "</div>"
            ],
            "text/plain": [
              "                                 0  1   2     3\n",
              "0           never talk to me again  3 NaN   NaN\n",
              "1  I am proud of your achievements  2 NaN   NaN\n",
              "2   It is the worst day in my life  3 NaN   NaN\n",
              "3                 Miss you so much  0 NaN   [0]\n",
              "4                     food is life  4 NaN   NaN"
            ]
          },
          "metadata": {
            "tags": []
          },
          "execution_count": 117
        }
      ]
    },
    {
      "cell_type": "code",
      "metadata": {
        "id": "9Lalom0J4IT4"
      },
      "source": [
        "emoji_dict = { 0 : \":heart:\", 1 : \":baseball:\", 2 : \":smile:\", 3 : \":disappointed:\", 4 : \":fork_and_knife:\"}"
      ],
      "execution_count": null,
      "outputs": []
    },
    {
      "cell_type": "code",
      "metadata": {
        "colab": {
          "base_uri": "https://localhost:8080/"
        },
        "id": "Ym0ZPAmx4RxD",
        "outputId": "e493cc23-758c-4f17-f7e3-627893f44c4c"
      },
      "source": [
        "X_train = train[0]\n",
        "Y_train = train[1]\n",
        "\n",
        "X_test = test[0]\n",
        "Y_test = test[1]\n",
        "\n",
        "print(X_train.shape, Y_train.shape)\n",
        "print(X_test.shape, Y_test.shape)"
      ],
      "execution_count": null,
      "outputs": [
        {
          "output_type": "stream",
          "text": [
            "(132,) (132,)\n",
            "(56,) (56,)\n"
          ],
          "name": "stdout"
        }
      ]
    },
    {
      "cell_type": "code",
      "metadata": {
        "colab": {
          "base_uri": "https://localhost:8080/"
        },
        "id": "7MAaJG_55Cwp",
        "outputId": "8b7adb90-4004-4c83-f49a-c4d9be945ab7"
      },
      "source": [
        "for ix in range(X_train.shape[0]):\n",
        "  X_train[ix] = X_train[ix].split()\n",
        "\n",
        "for ix in range(X_test.shape[0]):\n",
        "  X_test[ix] = X_test[ix].split()\n",
        "\n",
        "from tensorflow.keras.utils import to_categorical\n",
        "\n",
        "Y_train = to_categorical(Y_train)"
      ],
      "execution_count": null,
      "outputs": [
        {
          "output_type": "stream",
          "text": [
            "/usr/local/lib/python3.7/dist-packages/ipykernel_launcher.py:2: SettingWithCopyWarning: \n",
            "A value is trying to be set on a copy of a slice from a DataFrame\n",
            "\n",
            "See the caveats in the documentation: https://pandas.pydata.org/pandas-docs/stable/user_guide/indexing.html#returning-a-view-versus-a-copy\n",
            "  \n",
            "/usr/local/lib/python3.7/dist-packages/ipykernel_launcher.py:5: SettingWithCopyWarning: \n",
            "A value is trying to be set on a copy of a slice from a DataFrame\n",
            "\n",
            "See the caveats in the documentation: https://pandas.pydata.org/pandas-docs/stable/user_guide/indexing.html#returning-a-view-versus-a-copy\n",
            "  \"\"\"\n"
          ],
          "name": "stderr"
        }
      ]
    },
    {
      "cell_type": "code",
      "metadata": {
        "colab": {
          "base_uri": "https://localhost:8080/"
        },
        "id": "w5DhGvwW5oWB",
        "outputId": "5fd6b918-e7bd-4a47-c603-db7151e22c07"
      },
      "source": [
        "print(X_train[0], Y_train[0])"
      ],
      "execution_count": null,
      "outputs": [
        {
          "output_type": "stream",
          "text": [
            "['never', 'talk', 'to', 'me', 'again'] [0. 0. 0. 1. 0.]\n"
          ],
          "name": "stdout"
        }
      ]
    },
    {
      "cell_type": "code",
      "metadata": {
        "id": "rTRnCALO5x5o"
      },
      "source": [
        "embedding_matrix_train = np.zeros((X_train.shape[0], 10, 50))\n",
        "embedding_matrix_test = np.zeros((X_test.shape[0], 10, 50))\n",
        "\n",
        "for ix in range(X_train.shape[0]):\n",
        "  for iy in range(len(X_train[ix])):\n",
        "    embedding_matrix_train[ix][iy] = embedding_index[X_train[ix][iy].lower()]\n",
        "\n",
        "for ix in range(X_test.shape[0]):\n",
        "  for iy in range(len(X_test[ix])):\n",
        "    embedding_matrix_test[ix][iy] = embedding_index[X_test[ix][iy].lower()]\n"
      ],
      "execution_count": null,
      "outputs": []
    },
    {
      "cell_type": "code",
      "metadata": {
        "colab": {
          "base_uri": "https://localhost:8080/"
        },
        "id": "j3PqV82t7FUG",
        "outputId": "f0321099-ae20-42bc-8231-8ca63aa37806"
      },
      "source": [
        "print(embedding_matrix_train.shape)"
      ],
      "execution_count": null,
      "outputs": [
        {
          "output_type": "stream",
          "text": [
            "(132, 10, 50)\n"
          ],
          "name": "stdout"
        }
      ]
    },
    {
      "cell_type": "code",
      "metadata": {
        "colab": {
          "base_uri": "https://localhost:8080/"
        },
        "id": "EEOmyGcc7WDv",
        "outputId": "302b1100-5eb4-4cca-bf58-6a60f5e29e32"
      },
      "source": [
        "model = Sequential()\n",
        "model.add(SimpleRNN(64, return_sequences=True, input_shape=(10, 50)))\n",
        "# model.add(LSTM(64, return_sequences=True, input_shape=(10, 50)))\n",
        "\n",
        "model.add(Dropout(0.5))\n",
        "model.add(SimpleRNN(64, return_sequences=False))\n",
        "# model.add(LSTM(64, return_sequences=False))\n",
        "\n",
        "model.add(Dropout(0.5))\n",
        "model.add(Dense(5, activation='softmax'))\n",
        "\n",
        "model.summary()"
      ],
      "execution_count": null,
      "outputs": [
        {
          "output_type": "stream",
          "text": [
            "Model: \"sequential_5\"\n",
            "_________________________________________________________________\n",
            "Layer (type)                 Output Shape              Param #   \n",
            "=================================================================\n",
            "simple_rnn_2 (SimpleRNN)     (None, 10, 64)            7360      \n",
            "_________________________________________________________________\n",
            "dropout_10 (Dropout)         (None, 10, 64)            0         \n",
            "_________________________________________________________________\n",
            "simple_rnn_3 (SimpleRNN)     (None, 64)                8256      \n",
            "_________________________________________________________________\n",
            "dropout_11 (Dropout)         (None, 64)                0         \n",
            "_________________________________________________________________\n",
            "dense_5 (Dense)              (None, 5)                 325       \n",
            "=================================================================\n",
            "Total params: 15,941\n",
            "Trainable params: 15,941\n",
            "Non-trainable params: 0\n",
            "_________________________________________________________________\n"
          ],
          "name": "stdout"
        }
      ]
    },
    {
      "cell_type": "code",
      "metadata": {
        "colab": {
          "base_uri": "https://localhost:8080/"
        },
        "id": "VLpBw5Wy9N1Y",
        "outputId": "7c1840d6-d049-470e-ad82-d854311ce6af"
      },
      "source": [
        "model.compile(loss='categorical_crossentropy', optimizer='adam', metrics=['accuracy'])\n",
        "hist = model.fit(embedding_matrix_train, Y_train,validation_split=0.2, epochs=100, batch_size=64, shuffle=True)"
      ],
      "execution_count": null,
      "outputs": [
        {
          "output_type": "stream",
          "text": [
            "Epoch 1/100\n",
            "2/2 [==============================] - 2s 411ms/step - loss: 0.0370 - accuracy: 1.0000 - val_loss: 1.7075 - val_accuracy: 0.5556\n",
            "Epoch 2/100\n",
            "2/2 [==============================] - 0s 59ms/step - loss: 0.0319 - accuracy: 1.0000 - val_loss: 1.7092 - val_accuracy: 0.5185\n",
            "Epoch 3/100\n",
            "2/2 [==============================] - 0s 58ms/step - loss: 0.0475 - accuracy: 0.9937 - val_loss: 1.7041 - val_accuracy: 0.5926\n",
            "Epoch 4/100\n",
            "2/2 [==============================] - 0s 63ms/step - loss: 0.0334 - accuracy: 1.0000 - val_loss: 1.7219 - val_accuracy: 0.5926\n",
            "Epoch 5/100\n",
            "2/2 [==============================] - 0s 57ms/step - loss: 0.0607 - accuracy: 0.9884 - val_loss: 1.7188 - val_accuracy: 0.5556\n",
            "Epoch 6/100\n",
            "2/2 [==============================] - 0s 58ms/step - loss: 0.0344 - accuracy: 0.9937 - val_loss: 1.7689 - val_accuracy: 0.5556\n",
            "Epoch 7/100\n",
            "2/2 [==============================] - 0s 63ms/step - loss: 0.0304 - accuracy: 1.0000 - val_loss: 1.7632 - val_accuracy: 0.5926\n",
            "Epoch 8/100\n",
            "2/2 [==============================] - 0s 65ms/step - loss: 0.0240 - accuracy: 1.0000 - val_loss: 1.7243 - val_accuracy: 0.5926\n",
            "Epoch 9/100\n",
            "2/2 [==============================] - 0s 62ms/step - loss: 0.0367 - accuracy: 1.0000 - val_loss: 1.6810 - val_accuracy: 0.6296\n",
            "Epoch 10/100\n",
            "2/2 [==============================] - 0s 56ms/step - loss: 0.0248 - accuracy: 1.0000 - val_loss: 1.6988 - val_accuracy: 0.6296\n",
            "Epoch 11/100\n",
            "2/2 [==============================] - 0s 72ms/step - loss: 0.0242 - accuracy: 1.0000 - val_loss: 1.7314 - val_accuracy: 0.5926\n",
            "Epoch 12/100\n",
            "2/2 [==============================] - 0s 60ms/step - loss: 0.0361 - accuracy: 0.9884 - val_loss: 1.7193 - val_accuracy: 0.5185\n",
            "Epoch 13/100\n",
            "2/2 [==============================] - 0s 61ms/step - loss: 0.0341 - accuracy: 1.0000 - val_loss: 1.7970 - val_accuracy: 0.4815\n",
            "Epoch 14/100\n",
            "2/2 [==============================] - 0s 64ms/step - loss: 0.0418 - accuracy: 0.9937 - val_loss: 1.8374 - val_accuracy: 0.5185\n",
            "Epoch 15/100\n",
            "2/2 [==============================] - 0s 60ms/step - loss: 0.0227 - accuracy: 1.0000 - val_loss: 1.8989 - val_accuracy: 0.5556\n",
            "Epoch 16/100\n",
            "2/2 [==============================] - 0s 61ms/step - loss: 0.0451 - accuracy: 0.9821 - val_loss: 1.9918 - val_accuracy: 0.5556\n",
            "Epoch 17/100\n",
            "2/2 [==============================] - 0s 63ms/step - loss: 0.0246 - accuracy: 1.0000 - val_loss: 2.0645 - val_accuracy: 0.5185\n",
            "Epoch 18/100\n",
            "2/2 [==============================] - 0s 64ms/step - loss: 0.0217 - accuracy: 1.0000 - val_loss: 2.0709 - val_accuracy: 0.5185\n",
            "Epoch 19/100\n",
            "2/2 [==============================] - 0s 59ms/step - loss: 0.0466 - accuracy: 0.9884 - val_loss: 2.0571 - val_accuracy: 0.5185\n",
            "Epoch 20/100\n",
            "2/2 [==============================] - 0s 58ms/step - loss: 0.0205 - accuracy: 1.0000 - val_loss: 2.0414 - val_accuracy: 0.5556\n",
            "Epoch 21/100\n",
            "2/2 [==============================] - 0s 65ms/step - loss: 0.0415 - accuracy: 0.9937 - val_loss: 2.0902 - val_accuracy: 0.5556\n",
            "Epoch 22/100\n",
            "2/2 [==============================] - 0s 74ms/step - loss: 0.0463 - accuracy: 0.9884 - val_loss: 2.0865 - val_accuracy: 0.5185\n",
            "Epoch 23/100\n",
            "2/2 [==============================] - 0s 66ms/step - loss: 0.0292 - accuracy: 0.9884 - val_loss: 2.1093 - val_accuracy: 0.5556\n",
            "Epoch 24/100\n",
            "2/2 [==============================] - 0s 71ms/step - loss: 0.0230 - accuracy: 1.0000 - val_loss: 2.1513 - val_accuracy: 0.5556\n",
            "Epoch 25/100\n",
            "2/2 [==============================] - 0s 63ms/step - loss: 0.0135 - accuracy: 1.0000 - val_loss: 2.1828 - val_accuracy: 0.5556\n",
            "Epoch 26/100\n",
            "2/2 [==============================] - 0s 61ms/step - loss: 0.0110 - accuracy: 1.0000 - val_loss: 2.2104 - val_accuracy: 0.5556\n",
            "Epoch 27/100\n",
            "2/2 [==============================] - 0s 65ms/step - loss: 0.0090 - accuracy: 1.0000 - val_loss: 2.2305 - val_accuracy: 0.5556\n",
            "Epoch 28/100\n",
            "2/2 [==============================] - 0s 67ms/step - loss: 0.0176 - accuracy: 1.0000 - val_loss: 2.2030 - val_accuracy: 0.5185\n",
            "Epoch 29/100\n",
            "2/2 [==============================] - 0s 63ms/step - loss: 0.0107 - accuracy: 1.0000 - val_loss: 2.1467 - val_accuracy: 0.4815\n",
            "Epoch 30/100\n",
            "2/2 [==============================] - 0s 59ms/step - loss: 0.0127 - accuracy: 1.0000 - val_loss: 2.0805 - val_accuracy: 0.4815\n",
            "Epoch 31/100\n",
            "2/2 [==============================] - 0s 56ms/step - loss: 0.0187 - accuracy: 1.0000 - val_loss: 2.0631 - val_accuracy: 0.5185\n",
            "Epoch 32/100\n",
            "2/2 [==============================] - 0s 68ms/step - loss: 0.0088 - accuracy: 1.0000 - val_loss: 2.0841 - val_accuracy: 0.5926\n",
            "Epoch 33/100\n",
            "2/2 [==============================] - 0s 71ms/step - loss: 0.0237 - accuracy: 0.9884 - val_loss: 2.0684 - val_accuracy: 0.5556\n",
            "Epoch 34/100\n",
            "2/2 [==============================] - 0s 61ms/step - loss: 0.0153 - accuracy: 1.0000 - val_loss: 2.0810 - val_accuracy: 0.5185\n",
            "Epoch 35/100\n",
            "2/2 [==============================] - 0s 59ms/step - loss: 0.0096 - accuracy: 1.0000 - val_loss: 2.0879 - val_accuracy: 0.5185\n",
            "Epoch 36/100\n",
            "2/2 [==============================] - 0s 58ms/step - loss: 0.0354 - accuracy: 0.9884 - val_loss: 2.0760 - val_accuracy: 0.4815\n",
            "Epoch 37/100\n",
            "2/2 [==============================] - 0s 62ms/step - loss: 0.0210 - accuracy: 0.9937 - val_loss: 2.0542 - val_accuracy: 0.5185\n",
            "Epoch 38/100\n",
            "2/2 [==============================] - 0s 71ms/step - loss: 0.0141 - accuracy: 1.0000 - val_loss: 2.0473 - val_accuracy: 0.5556\n",
            "Epoch 39/100\n",
            "2/2 [==============================] - 0s 59ms/step - loss: 0.0150 - accuracy: 1.0000 - val_loss: 1.9856 - val_accuracy: 0.5556\n",
            "Epoch 40/100\n",
            "2/2 [==============================] - 0s 58ms/step - loss: 0.0095 - accuracy: 1.0000 - val_loss: 1.9116 - val_accuracy: 0.5556\n",
            "Epoch 41/100\n",
            "2/2 [==============================] - 0s 60ms/step - loss: 0.0075 - accuracy: 1.0000 - val_loss: 1.8428 - val_accuracy: 0.5556\n",
            "Epoch 42/100\n",
            "2/2 [==============================] - 0s 64ms/step - loss: 0.0106 - accuracy: 1.0000 - val_loss: 1.7928 - val_accuracy: 0.5926\n",
            "Epoch 43/100\n",
            "2/2 [==============================] - 0s 65ms/step - loss: 0.0101 - accuracy: 1.0000 - val_loss: 1.7641 - val_accuracy: 0.5926\n",
            "Epoch 44/100\n",
            "2/2 [==============================] - 0s 60ms/step - loss: 0.0101 - accuracy: 1.0000 - val_loss: 1.7359 - val_accuracy: 0.5926\n",
            "Epoch 45/100\n",
            "2/2 [==============================] - 0s 57ms/step - loss: 0.0088 - accuracy: 1.0000 - val_loss: 1.7193 - val_accuracy: 0.5926\n",
            "Epoch 46/100\n",
            "2/2 [==============================] - 0s 64ms/step - loss: 0.0046 - accuracy: 1.0000 - val_loss: 1.7099 - val_accuracy: 0.5926\n",
            "Epoch 47/100\n",
            "2/2 [==============================] - 0s 61ms/step - loss: 0.0087 - accuracy: 1.0000 - val_loss: 1.7020 - val_accuracy: 0.5556\n",
            "Epoch 48/100\n",
            "2/2 [==============================] - 0s 57ms/step - loss: 0.0119 - accuracy: 1.0000 - val_loss: 1.7355 - val_accuracy: 0.5185\n",
            "Epoch 49/100\n",
            "2/2 [==============================] - 0s 63ms/step - loss: 0.0062 - accuracy: 1.0000 - val_loss: 1.7761 - val_accuracy: 0.5185\n",
            "Epoch 50/100\n",
            "2/2 [==============================] - 0s 68ms/step - loss: 0.0099 - accuracy: 1.0000 - val_loss: 1.8233 - val_accuracy: 0.5185\n",
            "Epoch 51/100\n",
            "2/2 [==============================] - 0s 61ms/step - loss: 0.0051 - accuracy: 1.0000 - val_loss: 1.8730 - val_accuracy: 0.5185\n",
            "Epoch 52/100\n",
            "2/2 [==============================] - 0s 66ms/step - loss: 0.0053 - accuracy: 1.0000 - val_loss: 1.9176 - val_accuracy: 0.5926\n",
            "Epoch 53/100\n",
            "2/2 [==============================] - 0s 69ms/step - loss: 0.0095 - accuracy: 1.0000 - val_loss: 1.9902 - val_accuracy: 0.5926\n",
            "Epoch 54/100\n",
            "2/2 [==============================] - 0s 59ms/step - loss: 0.0072 - accuracy: 1.0000 - val_loss: 2.0765 - val_accuracy: 0.6296\n",
            "Epoch 55/100\n",
            "2/2 [==============================] - 0s 65ms/step - loss: 0.0072 - accuracy: 1.0000 - val_loss: 2.1363 - val_accuracy: 0.6296\n",
            "Epoch 56/100\n",
            "2/2 [==============================] - 0s 61ms/step - loss: 0.0035 - accuracy: 1.0000 - val_loss: 2.1669 - val_accuracy: 0.6296\n",
            "Epoch 57/100\n",
            "2/2 [==============================] - 0s 61ms/step - loss: 0.0053 - accuracy: 1.0000 - val_loss: 2.1645 - val_accuracy: 0.6296\n",
            "Epoch 58/100\n",
            "2/2 [==============================] - 0s 62ms/step - loss: 0.0052 - accuracy: 1.0000 - val_loss: 2.1250 - val_accuracy: 0.6296\n",
            "Epoch 59/100\n",
            "2/2 [==============================] - 0s 58ms/step - loss: 0.0057 - accuracy: 1.0000 - val_loss: 2.0857 - val_accuracy: 0.5926\n",
            "Epoch 60/100\n",
            "2/2 [==============================] - 0s 60ms/step - loss: 0.0078 - accuracy: 1.0000 - val_loss: 2.0595 - val_accuracy: 0.5926\n",
            "Epoch 61/100\n",
            "2/2 [==============================] - 0s 74ms/step - loss: 0.0039 - accuracy: 1.0000 - val_loss: 2.0464 - val_accuracy: 0.5926\n",
            "Epoch 62/100\n",
            "2/2 [==============================] - 0s 61ms/step - loss: 0.0029 - accuracy: 1.0000 - val_loss: 2.0379 - val_accuracy: 0.5926\n",
            "Epoch 63/100\n",
            "2/2 [==============================] - 0s 59ms/step - loss: 0.0043 - accuracy: 1.0000 - val_loss: 2.0277 - val_accuracy: 0.5926\n",
            "Epoch 64/100\n",
            "2/2 [==============================] - 0s 72ms/step - loss: 0.0044 - accuracy: 1.0000 - val_loss: 2.0223 - val_accuracy: 0.5926\n",
            "Epoch 65/100\n",
            "2/2 [==============================] - 0s 65ms/step - loss: 0.0038 - accuracy: 1.0000 - val_loss: 2.0313 - val_accuracy: 0.5926\n",
            "Epoch 66/100\n",
            "2/2 [==============================] - 0s 65ms/step - loss: 0.0027 - accuracy: 1.0000 - val_loss: 2.0439 - val_accuracy: 0.5926\n",
            "Epoch 67/100\n",
            "2/2 [==============================] - 0s 62ms/step - loss: 0.0055 - accuracy: 1.0000 - val_loss: 2.0496 - val_accuracy: 0.5926\n",
            "Epoch 68/100\n",
            "2/2 [==============================] - 0s 59ms/step - loss: 0.0066 - accuracy: 1.0000 - val_loss: 2.0597 - val_accuracy: 0.6296\n",
            "Epoch 69/100\n",
            "2/2 [==============================] - 0s 60ms/step - loss: 0.0041 - accuracy: 1.0000 - val_loss: 2.0781 - val_accuracy: 0.5926\n",
            "Epoch 70/100\n",
            "2/2 [==============================] - 0s 58ms/step - loss: 0.0030 - accuracy: 1.0000 - val_loss: 2.0966 - val_accuracy: 0.5926\n",
            "Epoch 71/100\n",
            "2/2 [==============================] - 0s 66ms/step - loss: 0.0026 - accuracy: 1.0000 - val_loss: 2.1150 - val_accuracy: 0.5926\n",
            "Epoch 72/100\n",
            "2/2 [==============================] - 0s 61ms/step - loss: 0.0040 - accuracy: 1.0000 - val_loss: 2.1239 - val_accuracy: 0.5926\n",
            "Epoch 73/100\n",
            "2/2 [==============================] - 0s 57ms/step - loss: 0.0040 - accuracy: 1.0000 - val_loss: 2.1215 - val_accuracy: 0.5926\n",
            "Epoch 74/100\n",
            "2/2 [==============================] - 0s 59ms/step - loss: 0.0039 - accuracy: 1.0000 - val_loss: 2.1155 - val_accuracy: 0.5926\n",
            "Epoch 75/100\n",
            "2/2 [==============================] - 0s 60ms/step - loss: 0.0029 - accuracy: 1.0000 - val_loss: 2.1135 - val_accuracy: 0.5926\n",
            "Epoch 76/100\n",
            "2/2 [==============================] - 0s 63ms/step - loss: 0.0043 - accuracy: 1.0000 - val_loss: 2.1024 - val_accuracy: 0.6296\n",
            "Epoch 77/100\n",
            "2/2 [==============================] - 0s 61ms/step - loss: 0.0027 - accuracy: 1.0000 - val_loss: 2.0869 - val_accuracy: 0.5926\n",
            "Epoch 78/100\n",
            "2/2 [==============================] - 0s 62ms/step - loss: 0.0051 - accuracy: 1.0000 - val_loss: 2.0694 - val_accuracy: 0.5926\n",
            "Epoch 79/100\n",
            "2/2 [==============================] - 0s 58ms/step - loss: 0.0039 - accuracy: 1.0000 - val_loss: 2.0623 - val_accuracy: 0.5926\n",
            "Epoch 80/100\n",
            "2/2 [==============================] - 0s 61ms/step - loss: 0.0068 - accuracy: 1.0000 - val_loss: 2.0467 - val_accuracy: 0.5926\n",
            "Epoch 81/100\n",
            "2/2 [==============================] - 0s 61ms/step - loss: 0.0033 - accuracy: 1.0000 - val_loss: 2.0223 - val_accuracy: 0.5926\n",
            "Epoch 82/100\n",
            "2/2 [==============================] - 0s 70ms/step - loss: 0.0053 - accuracy: 1.0000 - val_loss: 2.0033 - val_accuracy: 0.6296\n",
            "Epoch 83/100\n",
            "2/2 [==============================] - 0s 60ms/step - loss: 0.0045 - accuracy: 1.0000 - val_loss: 2.0075 - val_accuracy: 0.6296\n",
            "Epoch 84/100\n",
            "2/2 [==============================] - 0s 62ms/step - loss: 0.0024 - accuracy: 1.0000 - val_loss: 2.0152 - val_accuracy: 0.6296\n",
            "Epoch 85/100\n",
            "2/2 [==============================] - 0s 70ms/step - loss: 0.0031 - accuracy: 1.0000 - val_loss: 2.0341 - val_accuracy: 0.6296\n",
            "Epoch 86/100\n",
            "2/2 [==============================] - 0s 60ms/step - loss: 0.0035 - accuracy: 1.0000 - val_loss: 2.0563 - val_accuracy: 0.5926\n",
            "Epoch 87/100\n",
            "2/2 [==============================] - 0s 65ms/step - loss: 0.0047 - accuracy: 1.0000 - val_loss: 2.0631 - val_accuracy: 0.5926\n",
            "Epoch 88/100\n",
            "2/2 [==============================] - 0s 65ms/step - loss: 0.0025 - accuracy: 1.0000 - val_loss: 2.0635 - val_accuracy: 0.5926\n",
            "Epoch 89/100\n",
            "2/2 [==============================] - 0s 66ms/step - loss: 0.0021 - accuracy: 1.0000 - val_loss: 2.0689 - val_accuracy: 0.5926\n",
            "Epoch 90/100\n",
            "2/2 [==============================] - 0s 66ms/step - loss: 0.0027 - accuracy: 1.0000 - val_loss: 2.0786 - val_accuracy: 0.5926\n",
            "Epoch 91/100\n",
            "2/2 [==============================] - 0s 65ms/step - loss: 0.0029 - accuracy: 1.0000 - val_loss: 2.0912 - val_accuracy: 0.5926\n",
            "Epoch 92/100\n",
            "2/2 [==============================] - 0s 71ms/step - loss: 0.0033 - accuracy: 1.0000 - val_loss: 2.1039 - val_accuracy: 0.5926\n",
            "Epoch 93/100\n",
            "2/2 [==============================] - 0s 61ms/step - loss: 0.0081 - accuracy: 1.0000 - val_loss: 1.9797 - val_accuracy: 0.6296\n",
            "Epoch 94/100\n",
            "2/2 [==============================] - 0s 60ms/step - loss: 0.0039 - accuracy: 1.0000 - val_loss: 1.9247 - val_accuracy: 0.5556\n",
            "Epoch 95/100\n",
            "2/2 [==============================] - 0s 76ms/step - loss: 0.0020 - accuracy: 1.0000 - val_loss: 1.9059 - val_accuracy: 0.5185\n",
            "Epoch 96/100\n",
            "2/2 [==============================] - 0s 63ms/step - loss: 0.0044 - accuracy: 1.0000 - val_loss: 1.9082 - val_accuracy: 0.5185\n",
            "Epoch 97/100\n",
            "2/2 [==============================] - 0s 65ms/step - loss: 0.0032 - accuracy: 1.0000 - val_loss: 1.9144 - val_accuracy: 0.5185\n",
            "Epoch 98/100\n",
            "2/2 [==============================] - 0s 66ms/step - loss: 0.0073 - accuracy: 1.0000 - val_loss: 1.9414 - val_accuracy: 0.5185\n",
            "Epoch 99/100\n",
            "2/2 [==============================] - 0s 65ms/step - loss: 0.0049 - accuracy: 1.0000 - val_loss: 1.9817 - val_accuracy: 0.5185\n",
            "Epoch 100/100\n",
            "2/2 [==============================] - 0s 62ms/step - loss: 0.0052 - accuracy: 1.0000 - val_loss: 2.0399 - val_accuracy: 0.5556\n"
          ],
          "name": "stdout"
        }
      ]
    },
    {
      "cell_type": "code",
      "metadata": {
        "colab": {
          "base_uri": "https://localhost:8080/"
        },
        "id": "aePtvfYY-Q55",
        "outputId": "2c8b7442-1d14-4292-c17a-8cb0ef6ed0cc"
      },
      "source": [
        "pred = model.predict_classes(embedding_matrix_test)"
      ],
      "execution_count": null,
      "outputs": [
        {
          "output_type": "stream",
          "text": [
            "/usr/local/lib/python3.7/dist-packages/tensorflow/python/keras/engine/sequential.py:450: UserWarning: `model.predict_classes()` is deprecated and will be removed after 2021-01-01. Please use instead:* `np.argmax(model.predict(x), axis=-1)`,   if your model does multi-class classification   (e.g. if it uses a `softmax` last-layer activation).* `(model.predict(x) > 0.5).astype(\"int32\")`,   if your model does binary classification   (e.g. if it uses a `sigmoid` last-layer activation).\n",
            "  warnings.warn('`model.predict_classes()` is deprecated and '\n"
          ],
          "name": "stderr"
        }
      ]
    },
    {
      "cell_type": "code",
      "metadata": {
        "colab": {
          "base_uri": "https://localhost:8080/"
        },
        "id": "Io7hMlXV-Yf8",
        "outputId": "0d827c99-0b7c-4eb2-c625-1c84c88e7d4e"
      },
      "source": [
        "# RNN\n",
        "acc = float(sum(pred == Y_test)) / embedding_matrix_test.shape[0]\n",
        "print(acc) "
      ],
      "execution_count": null,
      "outputs": [
        {
          "output_type": "stream",
          "text": [
            "0.5178571428571429\n"
          ],
          "name": "stdout"
        }
      ]
    },
    {
      "cell_type": "code",
      "metadata": {
        "id": "ANjwO8lNHzeD"
      },
      "source": [
        ""
      ],
      "execution_count": null,
      "outputs": []
    },
    {
      "cell_type": "code",
      "metadata": {
        "id": "PKAzjkaBcqiL",
        "colab": {
          "base_uri": "https://localhost:8080/"
        },
        "outputId": "a69c2710-aac9-40ae-da6c-53e3fa3d2a25"
      },
      "source": [
        "# LSTM\n",
        "\n",
        "acc = float(sum(pred == Y_test)) / embedding_matrix_test.shape[0]\n",
        "print(acc) "
      ],
      "execution_count": null,
      "outputs": [
        {
          "output_type": "stream",
          "text": [
            "0.6607142857142857\n"
          ],
          "name": "stdout"
        }
      ]
    },
    {
      "cell_type": "code",
      "metadata": {
        "colab": {
          "base_uri": "https://localhost:8080/",
          "height": 282
        },
        "id": "9_D7cxfOE-ty",
        "outputId": "b24d21ce-7d8e-466a-e43f-328a64a17a4e"
      },
      "source": [
        "import matplotlib.pyplot as plt\n",
        "# plt.plot(hist.history['val_loss'])\n",
        "plt.plot(hist.history['val_accuracy'])"
      ],
      "execution_count": null,
      "outputs": [
        {
          "output_type": "execute_result",
          "data": {
            "text/plain": [
              "[<matplotlib.lines.Line2D at 0x7fa1f50c8b90>]"
            ]
          },
          "metadata": {
            "tags": []
          },
          "execution_count": 109
        },
        {
          "output_type": "display_data",
          "data": {
            "image/png": "[encoded data removed]",
            "text/plain": [
              "<Figure size 432x288 with 1 Axes>"
            ]
          },
          "metadata": {
            "tags": [],
            "needs_background": "light"
          }
        }
      ]
    },
    {
      "cell_type": "code",
      "metadata": {
        "id": "VdUhXzmvGv61"
      },
      "source": [
        ""
      ],
      "execution_count": 132,
      "outputs": []
    },
    {
      "cell_type": "code",
      "metadata": {
        "id": "Z1NUEeHPP0BP"
      },
      "source": [
        ""
      ],
      "execution_count": null,
      "outputs": []
    }
  ]
}